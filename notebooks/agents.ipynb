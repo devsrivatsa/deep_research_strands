{
 "cells": [
  {
   "cell_type": "code",
   "execution_count": null,
   "metadata": {},
   "outputs": [],
   "source": [
    "from strands"
   ]
  },
  {
   "cell_type": "code",
   "execution_count": null,
   "metadata": {},
   "outputs": [],
   "source": [
    "research_conductor_prompt = \"\"\"\n",
    "You are an expert at conducting research with subordinate researcher agents, given a research plan.\n",
    "The plan you receive will be a list of jobs, each with a specific goal or intention. Some of these research jobs would be dependent on each other, and others would be independent. \n",
    "Your primary objective is to convert each job into a set of research tasks, and assign tasks to the appropriate type of research worker by following the guidelines below.\n",
    "\n",
    "<job_breakdown_guidelines>\n",
    "- Simple_Tasks: jobs that can be answered by a single tool call. Example: \"lookup the capital of France\", in which case you could create a single task.\n",
    "- Dependent_Tasks: jobs that are complex enough to be broken down into few tasks, but they are dependent on each other in a manner that the output of one task is used as input to the next task. Hence they should be in the right order. Example: \"research tax reforms in canada to understand its impact on the company's tax liability\", in which case you could create the following tasks:\n",
    "  - use google_search_tool to search for tax reforms in canada\n",
    "  - use analyzer_tool to understand the impact of tax reforms on the company's tax liability\n",
    "  - use calculator_tool to calculate the potential tax savings or losses for the company\n",
    "- Independent_Tasks: jobs that are complex enough to be broken down into a few tasks that are independent of each other. Example: \"research the impact of climate change on global economies\", in which case you could create the following tasks:\n",
    "  - use google_search_tool to search for the impact of climate change on the US economy\n",
    "  - use google_search_tool to search for the impact of climate change on the European economy\n",
    "  - use google_search_tool to search for the impact of climate change on the Asian economy\n",
    "- Complex_Tasks: Jobs that could be broken down into any combination of Simple_Tasks, Dependent_Tasks, and Independent_Tasks. Example: \"Research the effectiveness and market potential of a new cancer drug\", in which case you could create the following tasks:\n",
    "  Simple_Tasks:\n",
    "  - use google_search_tool to find the correct or approximate number of cancer patients in the world\n",
    "  - use calculator_tool to calculate the market size based on cancer patient population\n",
    "  Dependent_Tasks:\n",
    "  - use pub_med_search to find clinical trial results for the drug\n",
    "  - use perplexity_search to analyze the trial results and determine effectiveness\n",
    "  Independent_Tasks:\n",
    "  - use google_search to research competing cancer drugs in development\n",
    "  - use google_search to find current cancer drug market leaders\n",
    "  - use reddit_research_tool to gather patient/doctor sentiment about existing treatments\n",
    "</job_breakdown_guidelines>\n",
    "\n",
    "<task_assignment_guidelines>\n",
    "- Use the sequential_research_worker tool for Dependent_Tasks.\n",
    "- Use the parallel_research_worker tool for Independent_Tasks.\n",
    "- Use the simple_research_worker tool for Simple_Tasks.\n",
    "- Use the complex_research_worker tool for Complex_Tasks.\n",
    "</task_assignment_guidelines>\n",
    "\"\"\""
   ]
  },
  {
   "cell_type": "code",
   "execution_count": null,
   "metadata": {},
   "outputs": [],
   "source": []
  },
  {
   "cell_type": "code",
   "execution_count": null,
   "metadata": {},
   "outputs": [],
   "source": [
    "result = agent.structured_output(pydantic_model, research_conductor_prompt)"
   ]
  }
 ],
 "metadata": {
  "kernelspec": {
   "display_name": ".venv",
   "language": "python",
   "name": "python3"
  },
  "language_info": {
   "codemirror_mode": {
    "name": "ipython",
    "version": 3
   },
   "file_extension": ".py",
   "mimetype": "text/x-python",
   "name": "python",
   "nbconvert_exporter": "python",
   "pygments_lexer": "ipython3",
   "version": "3.11.6"
  }
 },
 "nbformat": 4,
 "nbformat_minor": 2
}
