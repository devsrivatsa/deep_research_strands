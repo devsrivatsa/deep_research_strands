{
 "cells": [
  {
   "cell_type": "code",
   "execution_count": 1,
   "metadata": {},
   "outputs": [],
   "source": [
    "from strands import Agent\n",
    "from strands.models.anthropic import AnthropicModel\n",
    "from strands.models.ollama import OllamaModel\n",
    "from dotenv import load_dotenv\n",
    "from pydantic import BaseModel, Field\n",
    "import os\n",
    "\n",
    "load_dotenv()\n",
    "\n",
    "anthropic_api_key=os.getenv(\"ANTHROPIC_API_KEY\")\n"
   ]
  },
  {
   "cell_type": "code",
   "execution_count": 2,
   "metadata": {},
   "outputs": [],
   "source": [
    "ollama_model = OllamaModel(model_id=\"qwen3:8b\", host=\"http://localhost:11434\")\n",
    "anthropic_model = AnthropicModel(\n",
    "    client_args={\n",
    "        \"api_key\": anthropic_api_key,\n",
    "    },\n",
    "    # **model_config\n",
    "    max_tokens=1028,\n",
    "    model_id=\"claude-sonnet-4-20250514\",\n",
    "    params={\n",
    "        \"temperature\": 0.1,\n",
    "    }\n",
    ")"
   ]
  },
  {
   "cell_type": "code",
   "execution_count": null,
   "metadata": {},
   "outputs": [],
   "source": []
  },
  {
   "cell_type": "code",
   "execution_count": 6,
   "metadata": {},
   "outputs": [],
   "source": [
    "sample_agent = Agent(model=ollama_model, system_prompt=\"Extract the name of the person and the address\")\n",
    "\n",
    "class Info(BaseModel):\n",
    "    name: str = Field(description=\"The name of the person\")\n",
    "    door_no: str = Field(description=\"The door number of the person\")\n",
    "    street: str = Field(description=\"The street name of the person\")\n",
    "    city: str = Field(description=\"The city of the person\")\n",
    "    province: str = Field(description=\"The province of the person\")\n",
    "    country: str = Field(description=\"The country of the person\")\n",
    "    "
   ]
  },
  {
   "cell_type": "code",
   "execution_count": 7,
   "metadata": {},
   "outputs": [],
   "source": [
    "result = sample_agent.structured_output(Info,\"srivatsa lives in 50 graydon hall drive, north york, ontario, canada\")"
   ]
  },
  {
   "cell_type": "code",
   "execution_count": 8,
   "metadata": {},
   "outputs": [
    {
     "data": {
      "text/plain": [
       "__main__.Info"
      ]
     },
     "execution_count": 8,
     "metadata": {},
     "output_type": "execute_result"
    }
   ],
   "source": [
    "type(result)"
   ]
  },
  {
   "cell_type": "code",
   "execution_count": 10,
   "metadata": {},
   "outputs": [
    {
     "data": {
      "text/plain": [
       "{'name': 'Srivatsa',\n",
       " 'door_no': '50',\n",
       " 'street': 'graydon hall drive',\n",
       " 'city': 'north york',\n",
       " 'province': 'ontario',\n",
       " 'country': 'canada'}"
      ]
     },
     "execution_count": 10,
     "metadata": {},
     "output_type": "execute_result"
    }
   ],
   "source": [
    "result.model_dump()"
   ]
  },
  {
   "cell_type": "code",
   "execution_count": 11,
   "metadata": {},
   "outputs": [
    {
     "name": "stdout",
     "output_type": "stream",
     "text": [
      "<think>\n",
      "Okay, let's see. The user wants me to extract the name of the person and their address from the given text. The input is \"srivatsa lives in 50 graydon hall drive, north york, ontario, canada\" repeated twice. \n",
      "\n",
      "First, I need to identify the person's name. The text starts with \"srivatsa,\" which looks like a first name. Since there's no other name mentioned, I can assume that's the person's name.\n",
      "\n",
      "Next, the address part. The address is \"50 graydon hall drive, north york, ontario, canada.\" I need to parse this into standard address components. Typically, an address includes street number, street name, city, state, and country. Here, \"50 graydon hall drive\" is the street address. Then \"north york\" is the city. \"Ontario\" is the province, and \"canada\" is the country. \n",
      "\n",
      "Wait, but sometimes \"North York\" is a city in Ontario, Canada. So the address components should be structured as: Street: 50 Graydon Hall Drive, City: North York, Province: Ontario, Country: Canada. \n",
      "\n",
      "I should make sure there are no typos. The user wrote \"north york\" with a lowercase 'y' and \"ontario\" lowercase. But in standard address formatting, cities and provinces are usually capitalized. However, the original text might have it that way, so maybe I should keep the original casing unless instructed otherwise. \n",
      "\n",
      "But the user just wants the name and address extracted, not necessarily formatted. So I can present the name as \"srivatsa\" and the address as \"50 Graydon Hall Drive, North York, Ontario, Canada.\" Wait, the user wrote \"north york\" with a lowercase 'y' and \"ontario\" lowercase. Should I capitalize them? The original text might have it that way, but maybe it's a typo. However, since the user provided it that way, I should stick to their input unless there's a reason to correct it. \n",
      "\n",
      "Alternatively, maybe \"North York\" is a proper noun, so it should be capitalized. But the user wrote it as \"north york.\" Hmm. The user might have made a typo, but as a model, I should extract exactly what's given. Unless there's a specific instruction to correct it, I should present the data as is. \n",
      "\n",
      "So, the name is \"srivatsa\" and the address is \"50 graydon hall drive, north york, ontario, canada.\" But maybe the user expects the address to be properly capitalized. However, since the input is as given, I should extract it exactly. \n",
      "\n",
      "Wait, but in the example, the user wrote the same sentence twice. Maybe they are testing if I can handle duplicates. But the task is to extract the name and address. So the answer would be the name \"srivatsa\" and the address as provided. \n",
      "\n",
      "I think that's all. So the final answer should list the name and the address as given.\n",
      "</think>\n",
      "\n",
      "**Name:** srivatsa  \n",
      "**Address:** 50 graydon hall drive, north york, ontario, canada"
     ]
    },
    {
     "data": {
      "text/plain": [
       "strands.agent.agent_result.AgentResult"
      ]
     },
     "execution_count": 11,
     "metadata": {},
     "output_type": "execute_result"
    }
   ],
   "source": [
    "result = sample_agent(\"srivatsa lives in 50 graydon hall drive, north york, ontario, canada\")\n",
    "type(result)\n"
   ]
  },
  {
   "cell_type": "code",
   "execution_count": 14,
   "metadata": {},
   "outputs": [
    {
     "data": {
      "text/plain": [
       "AgentResult(stop_reason='end_turn', message={'role': 'assistant', 'content': [{'text': '<think>\\nOkay, let\\'s see. The user wants me to extract the name of the person and their address from the given text. The input is \"srivatsa lives in 50 graydon hall drive, north york, ontario, canada\" repeated twice. \\n\\nFirst, I need to identify the person\\'s name. The text starts with \"srivatsa,\" which looks like a first name. Since there\\'s no other name mentioned, I can assume that\\'s the person\\'s name.\\n\\nNext, the address part. The address is \"50 graydon hall drive, north york, ontario, canada.\" I need to parse this into standard address components. Typically, an address includes street number, street name, city, state, and country. Here, \"50 graydon hall drive\" is the street address. Then \"north york\" is the city. \"Ontario\" is the province, and \"canada\" is the country. \\n\\nWait, but sometimes \"North York\" is a city in Ontario, Canada. So the address components should be structured as: Street: 50 Graydon Hall Drive, City: North York, Province: Ontario, Country: Canada. \\n\\nI should make sure there are no typos. The user wrote \"north york\" with a lowercase \\'y\\' and \"ontario\" lowercase. But in standard address formatting, cities and provinces are usually capitalized. However, the original text might have it that way, so maybe I should keep the original casing unless instructed otherwise. \\n\\nBut the user just wants the name and address extracted, not necessarily formatted. So I can present the name as \"srivatsa\" and the address as \"50 Graydon Hall Drive, North York, Ontario, Canada.\" Wait, the user wrote \"north york\" with a lowercase \\'y\\' and \"ontario\" lowercase. Should I capitalize them? The original text might have it that way, but maybe it\\'s a typo. However, since the user provided it that way, I should stick to their input unless there\\'s a reason to correct it. \\n\\nAlternatively, maybe \"North York\" is a proper noun, so it should be capitalized. But the user wrote it as \"north york.\" Hmm. The user might have made a typo, but as a model, I should extract exactly what\\'s given. Unless there\\'s a specific instruction to correct it, I should present the data as is. \\n\\nSo, the name is \"srivatsa\" and the address is \"50 graydon hall drive, north york, ontario, canada.\" But maybe the user expects the address to be properly capitalized. However, since the input is as given, I should extract it exactly. \\n\\nWait, but in the example, the user wrote the same sentence twice. Maybe they are testing if I can handle duplicates. But the task is to extract the name and address. So the answer would be the name \"srivatsa\" and the address as provided. \\n\\nI think that\\'s all. So the final answer should list the name and the address as given.\\n</think>\\n\\n**Name:** srivatsa  \\n**Address:** 50 graydon hall drive, north york, ontario, canada'}]}, metrics=EventLoopMetrics(cycle_count=1, tool_metrics={}, cycle_durations=[7.165496110916138], traces=[<strands.telemetry.metrics.Trace object at 0x7674d7279550>], accumulated_usage={'inputTokens': 664, 'outputTokens': 65, 'totalTokens': 729}, accumulated_metrics={'latencyMs': 7141.747052}), state={})"
      ]
     },
     "execution_count": 14,
     "metadata": {},
     "output_type": "execute_result"
    }
   ],
   "source": [
    "result"
   ]
  },
  {
   "cell_type": "markdown",
   "metadata": {},
   "source": [
    "#### human in loop example"
   ]
  },
  {
   "cell_type": "code",
   "execution_count": null,
   "metadata": {},
   "outputs": [
    {
     "name": "stdout",
     "output_type": "stream",
     "text": [
      "<think>\n",
      "Okay, the user wants me to write a short story about a cat and then hand off the task to them for review using the handoff_to_user tool. Let me start by crafting a simple story.\n",
      "\n",
      "Hmm, the story should be engaging but concise. Let's think of a little cat with a unique trait. Maybe a cat named Whiskers who can talk to birds. That adds a magical element. \n",
      "\n",
      "I need to set the scene. Perhaps a sunny afternoon in a garden. Whiskers meets a bird, they have a conversation, and then something happens. Maybe the bird invites him to a feast. Then, a problem arises, like a storm approaching. They work together to solve it. \n",
      "\n",
      "Wait, the user wants the story to be short, so I should keep it to a few paragraphs. Let me outline: introduction of Whiskers, his ability, meeting the bird, the feast, the storm, and a happy ending. \n",
      "\n",
      "Now, after writing the story, I need to use the handoff_to_user function. The parameters require a message and whether to breakout of the loop. Since the user wants review, maybe I should wait for their input, so breakout_of_loop should be False. The message should prompt them to review and offer edits. \n",
      "\n",
      "Let me check the function signature again. The message needs to have context and instructions. So the message could be: \"Here's the story. Please review it and let me know if you'd like any edits.\" \n",
      "\n",
      "Putting it all together: write the story, then call the handoff function with the message and breakout_of_loop as False. Make sure not to add anything else. Alright, that should do it.\n",
      "</think>\n",
      "\n",
      "\n",
      "Tool #1: handoff_to_user\n"
     ]
    },
    {
     "data": {
      "text/html": [
       "<pre style=\"white-space:pre;overflow-x:auto;line-height:normal;font-family:Menlo,'DejaVu Sans Mono',consolas,'Courier New',monospace\">\n",
       "</pre>\n"
      ],
      "text/plain": [
       "\n"
      ]
     },
     "metadata": {},
     "output_type": "display_data"
    },
    {
     "data": {
      "text/html": [
       "<pre style=\"white-space:pre;overflow-x:auto;line-height:normal;font-family:Menlo,'DejaVu Sans Mono',consolas,'Courier New',monospace\"><span style=\"color: #008000; text-decoration-color: #008000\">╭─────────────────────────────────────────────────────────────────────────────────────────────────────────────────╮</span>\n",
       "<span style=\"color: #008000; text-decoration-color: #008000\">│</span>                                                                                                                 <span style=\"color: #008000; text-decoration-color: #008000\">│</span>\n",
       "<span style=\"color: #008000; text-decoration-color: #008000\">│</span>  🤝 <span style=\"color: #008000; text-decoration-color: #008000; font-weight: bold\">AGENT REQUESTING USER HANDOFF</span>                                                                               <span style=\"color: #008000; text-decoration-color: #008000\">│</span>\n",
       "<span style=\"color: #008000; text-decoration-color: #008000\">│</span>                                                                                                                 <span style=\"color: #008000; text-decoration-color: #008000\">│</span>\n",
       "<span style=\"color: #008000; text-decoration-color: #008000\">│</span>  Here's the story:                                                                                              <span style=\"color: #008000; text-decoration-color: #008000\">│</span>\n",
       "<span style=\"color: #008000; text-decoration-color: #008000\">│</span>                                                                                                                 <span style=\"color: #008000; text-decoration-color: #008000\">│</span>\n",
       "<span style=\"color: #008000; text-decoration-color: #008000\">│</span>  Whiskers, a curious tabby cat, spent his afternoons exploring the sun-dappled garden of Mrs. Thompson. One     <span style=\"color: #008000; text-decoration-color: #008000\">│</span>\n",
       "<span style=\"color: #008000; text-decoration-color: #008000\">│</span>  day, he discovered a hidden path leading to a secret orchard where birds sang in harmony. A sparrow named Pip  <span style=\"color: #008000; text-decoration-color: #008000\">│</span>\n",
       "<span style=\"color: #008000; text-decoration-color: #008000\">│</span>  welcomed him, revealing the birds had been gathering fruit for a feast. As Whiskers joined the celebration, a  <span style=\"color: #008000; text-decoration-color: #008000\">│</span>\n",
       "<span style=\"color: #008000; text-decoration-color: #008000\">│</span>  sudden storm approached. Together, they guided the birds to safety, their friendship bridging species. The     <span style=\"color: #008000; text-decoration-color: #008000\">│</span>\n",
       "<span style=\"color: #008000; text-decoration-color: #008000\">│</span>  next morning, the orchard bloomed brighter, a testament to their unlikely bond.                                <span style=\"color: #008000; text-decoration-color: #008000\">│</span>\n",
       "<span style=\"color: #008000; text-decoration-color: #008000\">│</span>                                                                                                                 <span style=\"color: #008000; text-decoration-color: #008000\">│</span>\n",
       "<span style=\"color: #008000; text-decoration-color: #008000\">│</span>  Please review this story and let me know if you'd like any edits!                                              <span style=\"color: #008000; text-decoration-color: #008000\">│</span>\n",
       "<span style=\"color: #008000; text-decoration-color: #008000\">│</span>                                                                                                                 <span style=\"color: #008000; text-decoration-color: #008000\">│</span>\n",
       "<span style=\"color: #008000; text-decoration-color: #008000\">╰─────────────────────────────────────────────────────────────────────────────────────────────────────────────────╯</span>\n",
       "</pre>\n"
      ],
      "text/plain": [
       "\u001b[32m╭─────────────────────────────────────────────────────────────────────────────────────────────────────────────────╮\u001b[0m\n",
       "\u001b[32m│\u001b[0m                                                                                                                 \u001b[32m│\u001b[0m\n",
       "\u001b[32m│\u001b[0m  🤝 \u001b[1;32mAGENT REQUESTING USER HANDOFF\u001b[0m                                                                               \u001b[32m│\u001b[0m\n",
       "\u001b[32m│\u001b[0m                                                                                                                 \u001b[32m│\u001b[0m\n",
       "\u001b[32m│\u001b[0m  Here's the story:                                                                                              \u001b[32m│\u001b[0m\n",
       "\u001b[32m│\u001b[0m                                                                                                                 \u001b[32m│\u001b[0m\n",
       "\u001b[32m│\u001b[0m  Whiskers, a curious tabby cat, spent his afternoons exploring the sun-dappled garden of Mrs. Thompson. One     \u001b[32m│\u001b[0m\n",
       "\u001b[32m│\u001b[0m  day, he discovered a hidden path leading to a secret orchard where birds sang in harmony. A sparrow named Pip  \u001b[32m│\u001b[0m\n",
       "\u001b[32m│\u001b[0m  welcomed him, revealing the birds had been gathering fruit for a feast. As Whiskers joined the celebration, a  \u001b[32m│\u001b[0m\n",
       "\u001b[32m│\u001b[0m  sudden storm approached. Together, they guided the birds to safety, their friendship bridging species. The     \u001b[32m│\u001b[0m\n",
       "\u001b[32m│\u001b[0m  next morning, the orchard bloomed brighter, a testament to their unlikely bond.                                \u001b[32m│\u001b[0m\n",
       "\u001b[32m│\u001b[0m                                                                                                                 \u001b[32m│\u001b[0m\n",
       "\u001b[32m│\u001b[0m  Please review this story and let me know if you'd like any edits!                                              \u001b[32m│\u001b[0m\n",
       "\u001b[32m│\u001b[0m                                                                                                                 \u001b[32m│\u001b[0m\n",
       "\u001b[32m╰─────────────────────────────────────────────────────────────────────────────────────────────────────────────────╯\u001b[0m\n"
      ]
     },
     "metadata": {},
     "output_type": "display_data"
    },
    {
     "name": "stdout",
     "output_type": "stream",
     "text": [
      "Your response:\n",
      "\n",
      "\n",
      "\n",
      "\n",
      "\n",
      "\n",
      "                 Warning: Input is not a terminal (fd=0).\n",
      "Your response:\n",
      "\n",
      "\n",
      "\n",
      "\n",
      "\n",
      "\n",
      "                 "
     ]
    }
   ],
   "source": [
    "from strands_tools import handoff_to_user\n",
    "agent = Agent(model=ollama_model, tools=[handoff_to_user])\n",
    "result = agent(\"write a short story about a cat, and handoff the task to the user for review by using the handoff_to_user tool. Note: you must call this tool to execute the handoff. Do not print anything else.\")\n",
    "response = agent.tool.handoff_to_user(\n",
    "    message=\"I need your approval to proceed\",\n",
    "    breakout_of_loop=False\n",
    ")"
   ]
  },
  {
   "cell_type": "code",
   "execution_count": 12,
   "metadata": {},
   "outputs": [
    {
     "data": {
      "text/plain": [
       "AgentResult(stop_reason='tool_use', message={'role': 'assistant', 'content': [{'toolUse': {'toolUseId': 'handoff_to_user', 'name': 'handoff_to_user', 'input': {'breakout_of_loop': True, 'message': \"Here's your short story about a cat. Please review it: \\n\\nWhiskers was a curious tabby who loved exploring the garden. One day, she chased a butterfly through the flowers, climbed the tallest sunflower, and returned home with a tiny moth as her new friend. The end! Let me know if you need changes.\"}}}, {'text': '<think>\\nOkay, the user wants me to write a short story about a cat and then hand off the task to them for review using the handoff_to_user tool. Let me start by crafting a simple story.\\n\\nFirst, I need to make sure the story is concise. Let\\'s think of a little plot. Maybe a cat named Whiskers who loves adventures. Something like Whiskers exploring the garden, meeting a butterfly, and then coming home. Keep it friendly and short.\\n\\nNow, after writing the story, I need to use the handoff_to_user function. The parameters required are \\'message\\' and \\'breakout_of_loop\\'. The user mentioned to stop the event loop, so \\'breakout_of_loop\\' should be True. The message should inform the user that the story is ready for review. Let me check the function\\'s description again to confirm. Yes, breakout_of_loop is a boolean to stop the loop or wait for input. Since the user wants a complete handoff, setting it to True makes sense.\\n\\nWait, the note says to call the tool to execute the handoff. So I must make sure to include the tool call. The message should include the story and a prompt for review. Let me structure the message: \"Here\\'s your short story about a cat. Please review it: [story]. Let me know if you need changes!\" \\n\\nPutting it all together, the function call will have the message with the story and the breakout_of_loop set to True. That should fulfill the user\\'s request.\\n</think>\\n\\n'}]}, metrics=EventLoopMetrics(cycle_count=1, tool_metrics={'handoff_to_user': ToolMetrics(tool={'toolUseId': 'handoff_to_user', 'name': 'handoff_to_user', 'input': {'breakout_of_loop': True, 'message': \"Here's your short story about a cat. Please review it: \\n\\nWhiskers was a curious tabby who loved exploring the garden. One day, she chased a butterfly through the flowers, climbed the tallest sunflower, and returned home with a tiny moth as her new friend. The end! Let me know if you need changes.\"}}, call_count=1, success_count=1, error_count=0, total_time=0.007603168487548828)}, cycle_durations=[4.481112957000732], traces=[<strands.telemetry.metrics.Trace object at 0x752975a06b10>], accumulated_usage={'inputTokens': 411, 'outputTokens': 235, 'totalTokens': 646}, accumulated_metrics={'latencyMs': 4454.876523}), state={'stop_event_loop': True})"
      ]
     },
     "execution_count": 12,
     "metadata": {},
     "output_type": "execute_result"
    }
   ],
   "source": [
    "result"
   ]
  },
  {
   "cell_type": "code",
   "execution_count": null,
   "metadata": {},
   "outputs": [],
   "source": []
  }
 ],
 "metadata": {
  "kernelspec": {
   "display_name": ".venv",
   "language": "python",
   "name": "python3"
  },
  "language_info": {
   "codemirror_mode": {
    "name": "ipython",
    "version": 3
   },
   "file_extension": ".py",
   "mimetype": "text/x-python",
   "name": "python",
   "nbconvert_exporter": "python",
   "pygments_lexer": "ipython3",
   "version": "3.11.6"
  }
 },
 "nbformat": 4,
 "nbformat_minor": 2
}
