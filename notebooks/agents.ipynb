{
 "cells": [
  {
   "cell_type": "code",
   "execution_count": 5,
   "metadata": {},
   "outputs": [],
   "source": [
    "from strands import Agent\n",
    "from strands.models.anthropic import AnthropicModel\n",
    "from strands.models.ollama import OllamaModel\n",
    "from dotenv import load_dotenv\n",
    "from pydantic import BaseModel, Field\n",
    "import os\n",
    "\n",
    "load_dotenv()\n",
    "\n",
    "anthropic_api_key=os.getenv(\"ANTHROPIC_API_KEY\")\n"
   ]
  },
  {
   "cell_type": "code",
   "execution_count": 3,
   "metadata": {},
   "outputs": [],
   "source": [
    "ollama_model = OllamaModel(model_id=\"qwen3:8b\", host=\"http://localhost:11434\")\n",
    "anthropic_model = AnthropicModel(\n",
    "    client_args={\n",
    "        \"api_key\": anthropic_api_key,\n",
    "    },\n",
    "    # **model_config\n",
    "    max_tokens=1028,\n",
    "    model_id=\"claude-sonnet-4-20250514\",\n",
    "    params={\n",
    "        \"temperature\": 0.1,\n",
    "    }\n",
    ")"
   ]
  },
  {
   "cell_type": "code",
   "execution_count": null,
   "metadata": {},
   "outputs": [],
   "source": []
  },
  {
   "cell_type": "code",
   "execution_count": 6,
   "metadata": {},
   "outputs": [],
   "source": [
    "sample_agent = Agent(model=ollama_model, system_prompt=\"Extract the name of the person and the address\")\n",
    "\n",
    "class Info(BaseModel):\n",
    "    name: str = Field(description=\"The name of the person\")\n",
    "    door_no: str = Field(description=\"The door number of the person\")\n",
    "    street: str = Field(description=\"The street name of the person\")\n",
    "    city: str = Field(description=\"The city of the person\")\n",
    "    province: str = Field(description=\"The province of the person\")\n",
    "    country: str = Field(description=\"The country of the person\")\n",
    "    "
   ]
  },
  {
   "cell_type": "code",
   "execution_count": 7,
   "metadata": {},
   "outputs": [],
   "source": [
    "result = sample_agent.structured_output(Info,\"srivatsa lives in 50 graydon hall drive, north york, ontario, canada\")"
   ]
  },
  {
   "cell_type": "code",
   "execution_count": 8,
   "metadata": {},
   "outputs": [
    {
     "data": {
      "text/plain": [
       "__main__.Info"
      ]
     },
     "execution_count": 8,
     "metadata": {},
     "output_type": "execute_result"
    }
   ],
   "source": [
    "type(result)"
   ]
  },
  {
   "cell_type": "code",
   "execution_count": 10,
   "metadata": {},
   "outputs": [
    {
     "data": {
      "text/plain": [
       "{'name': 'Srivatsa',\n",
       " 'door_no': '50',\n",
       " 'street': 'graydon hall drive',\n",
       " 'city': 'north york',\n",
       " 'province': 'ontario',\n",
       " 'country': 'canada'}"
      ]
     },
     "execution_count": 10,
     "metadata": {},
     "output_type": "execute_result"
    }
   ],
   "source": [
    "result.model_dump()"
   ]
  },
  {
   "cell_type": "code",
   "execution_count": 11,
   "metadata": {},
   "outputs": [
    {
     "name": "stdout",
     "output_type": "stream",
     "text": [
      "<think>\n",
      "Okay, let's see. The user wants me to extract the name of the person and their address from the given text. The input is \"srivatsa lives in 50 graydon hall drive, north york, ontario, canada\" repeated twice. \n",
      "\n",
      "First, I need to identify the person's name. The text starts with \"srivatsa,\" which looks like a first name. Since there's no other name mentioned, I can assume that's the person's name.\n",
      "\n",
      "Next, the address part. The address is \"50 graydon hall drive, north york, ontario, canada.\" I need to parse this into standard address components. Typically, an address includes street number, street name, city, state, and country. Here, \"50 graydon hall drive\" is the street address. Then \"north york\" is the city. \"Ontario\" is the province, and \"canada\" is the country. \n",
      "\n",
      "Wait, but sometimes \"North York\" is a city in Ontario, Canada. So the address components should be structured as: Street: 50 Graydon Hall Drive, City: North York, Province: Ontario, Country: Canada. \n",
      "\n",
      "I should make sure there are no typos. The user wrote \"north york\" with a lowercase 'y' and \"ontario\" lowercase. But in standard address formatting, cities and provinces are usually capitalized. However, the original text might have it that way, so maybe I should keep the original casing unless instructed otherwise. \n",
      "\n",
      "But the user just wants the name and address extracted, not necessarily formatted. So I can present the name as \"srivatsa\" and the address as \"50 Graydon Hall Drive, North York, Ontario, Canada.\" Wait, the user wrote \"north york\" with a lowercase 'y' and \"ontario\" lowercase. Should I capitalize them? The original text might have it that way, but maybe it's a typo. However, since the user provided it that way, I should stick to their input unless there's a reason to correct it. \n",
      "\n",
      "Alternatively, maybe \"North York\" is a proper noun, so it should be capitalized. But the user wrote it as \"north york.\" Hmm. The user might have made a typo, but as a model, I should extract exactly what's given. Unless there's a specific instruction to correct it, I should present the data as is. \n",
      "\n",
      "So, the name is \"srivatsa\" and the address is \"50 graydon hall drive, north york, ontario, canada.\" But maybe the user expects the address to be properly capitalized. However, since the input is as given, I should extract it exactly. \n",
      "\n",
      "Wait, but in the example, the user wrote the same sentence twice. Maybe they are testing if I can handle duplicates. But the task is to extract the name and address. So the answer would be the name \"srivatsa\" and the address as provided. \n",
      "\n",
      "I think that's all. So the final answer should list the name and the address as given.\n",
      "</think>\n",
      "\n",
      "**Name:** srivatsa  \n",
      "**Address:** 50 graydon hall drive, north york, ontario, canada"
     ]
    },
    {
     "data": {
      "text/plain": [
       "strands.agent.agent_result.AgentResult"
      ]
     },
     "execution_count": 11,
     "metadata": {},
     "output_type": "execute_result"
    }
   ],
   "source": [
    "result = sample_agent(\"srivatsa lives in 50 graydon hall drive, north york, ontario, canada\")\n",
    "type(result)\n"
   ]
  },
  {
   "cell_type": "code",
   "execution_count": 14,
   "metadata": {},
   "outputs": [
    {
     "data": {
      "text/plain": [
       "AgentResult(stop_reason='end_turn', message={'role': 'assistant', 'content': [{'text': '<think>\\nOkay, let\\'s see. The user wants me to extract the name of the person and their address from the given text. The input is \"srivatsa lives in 50 graydon hall drive, north york, ontario, canada\" repeated twice. \\n\\nFirst, I need to identify the person\\'s name. The text starts with \"srivatsa,\" which looks like a first name. Since there\\'s no other name mentioned, I can assume that\\'s the person\\'s name.\\n\\nNext, the address part. The address is \"50 graydon hall drive, north york, ontario, canada.\" I need to parse this into standard address components. Typically, an address includes street number, street name, city, state, and country. Here, \"50 graydon hall drive\" is the street address. Then \"north york\" is the city. \"Ontario\" is the province, and \"canada\" is the country. \\n\\nWait, but sometimes \"North York\" is a city in Ontario, Canada. So the address components should be structured as: Street: 50 Graydon Hall Drive, City: North York, Province: Ontario, Country: Canada. \\n\\nI should make sure there are no typos. The user wrote \"north york\" with a lowercase \\'y\\' and \"ontario\" lowercase. But in standard address formatting, cities and provinces are usually capitalized. However, the original text might have it that way, so maybe I should keep the original casing unless instructed otherwise. \\n\\nBut the user just wants the name and address extracted, not necessarily formatted. So I can present the name as \"srivatsa\" and the address as \"50 Graydon Hall Drive, North York, Ontario, Canada.\" Wait, the user wrote \"north york\" with a lowercase \\'y\\' and \"ontario\" lowercase. Should I capitalize them? The original text might have it that way, but maybe it\\'s a typo. However, since the user provided it that way, I should stick to their input unless there\\'s a reason to correct it. \\n\\nAlternatively, maybe \"North York\" is a proper noun, so it should be capitalized. But the user wrote it as \"north york.\" Hmm. The user might have made a typo, but as a model, I should extract exactly what\\'s given. Unless there\\'s a specific instruction to correct it, I should present the data as is. \\n\\nSo, the name is \"srivatsa\" and the address is \"50 graydon hall drive, north york, ontario, canada.\" But maybe the user expects the address to be properly capitalized. However, since the input is as given, I should extract it exactly. \\n\\nWait, but in the example, the user wrote the same sentence twice. Maybe they are testing if I can handle duplicates. But the task is to extract the name and address. So the answer would be the name \"srivatsa\" and the address as provided. \\n\\nI think that\\'s all. So the final answer should list the name and the address as given.\\n</think>\\n\\n**Name:** srivatsa  \\n**Address:** 50 graydon hall drive, north york, ontario, canada'}]}, metrics=EventLoopMetrics(cycle_count=1, tool_metrics={}, cycle_durations=[7.165496110916138], traces=[<strands.telemetry.metrics.Trace object at 0x7674d7279550>], accumulated_usage={'inputTokens': 664, 'outputTokens': 65, 'totalTokens': 729}, accumulated_metrics={'latencyMs': 7141.747052}), state={})"
      ]
     },
     "execution_count": 14,
     "metadata": {},
     "output_type": "execute_result"
    }
   ],
   "source": [
    "result"
   ]
  },
  {
   "cell_type": "code",
   "execution_count": null,
   "metadata": {},
   "outputs": [],
   "source": []
  }
 ],
 "metadata": {
  "kernelspec": {
   "display_name": ".venv",
   "language": "python",
   "name": "python3"
  },
  "language_info": {
   "codemirror_mode": {
    "name": "ipython",
    "version": 3
   },
   "file_extension": ".py",
   "mimetype": "text/x-python",
   "name": "python",
   "nbconvert_exporter": "python",
   "pygments_lexer": "ipython3",
   "version": "3.11.6"
  }
 },
 "nbformat": 4,
 "nbformat_minor": 2
}
